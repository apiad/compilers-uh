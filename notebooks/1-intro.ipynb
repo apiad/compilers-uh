{
 "cells": [
  {
   "cell_type": "markdown",
   "metadata": {},
   "source": [
    "# Introducción\n",
    "\n",
    "Durante todo este curso vamos a estar contruyendo un compilador de COOL, paso a paso, introduciendo nuevas características del lenguaje o mejorando la implementación de otras características a medida que vamos descubriendo las técnicas fundamentales de la teoría de lenguajes y la compilación.\n",
    "\n",
    "El objetivo de esta clase es construir un evaluador de expresiones \"a mano\", usando los recursos que tenemos hasta el momento. Para ello vamos a comenzar con una versión de COOL muy sencilla, un lenguaje de expresiones aritméticas.\n",
    "\n",
    "En este lenguaje, que llamaremos `COOL 0.1` o `xCOOL` (la `x` por `expression`), podemos usar expresiones como la siguiente:\n",
    "\n",
    "`32.4 + 5 * ( e - sin ( 2 * pi ) )`"
   ]
  },
  {
   "cell_type": "markdown",
   "metadata": {},
   "source": [
    "## COOL 0.1 (xCOOL)\n",
    "\n",
    "Definiremos a continuación este lenguaje de manera informal:\n",
    "\n",
    "Un programa en `xCOOL` consta de una secuencia de expresiones. Cada expresión está compuesta por:\n",
    "\n",
    "- números (con coma flotante de 32 bits), \n",
    "- operadores `+ - * / ^` con el orden operacional, \n",
    "- paréntesis `(` y `)`, \n",
    "- constantes `pi`, `e`, etc., y\n",
    "- funciones elementales `sin`, `cos`, `tan`, `log`, `sqrt`, etc."
   ]
  },
  {
   "cell_type": "markdown",
   "metadata": {},
   "source": [
    "## Evaluando expresiones simples\n",
    "\n",
    "Comenzaremos construyendo un prototipo bien simple, donde solamente aceptaremos números y operadores. Además, asumiremos que en la expresión hay espacios en blanco entre todos los elementos, de modo que el *lexer* se reduce a dividir por espacios. Luego iremos adicionando elementos más complejos.\n",
    "\n",
    "El siguiente método devuelve una lista de *tokens*, asumiendo que la expresión solo tiene números y operadores, separados por espacios en blanco."
   ]
  },
  {
   "cell_type": "code",
   "execution_count": 1,
   "metadata": {},
   "outputs": [],
   "source": [
    "def tokenize(expr):\n",
    "    \"\"\"\n",
    "    Returns the set of tokens. At this point, simply splits by \n",
    "    spaces and converts numbers to `float` instances.\n",
    "    \"\"\"\n",
    "    tokens = []\n",
    "    \n",
    "    for token in expr.split():\n",
    "        # :solution:\n",
    "        try:\n",
    "            tokens.append(float(token))\n",
    "        except:\n",
    "            tokens.append(token)\n",
    "        # :final:\n",
    "        # Insert your code here ...\n",
    "        pass\n",
    "        # :end:\n",
    "    \n",
    "    return tokens"
   ]
  },
  {
   "cell_type": "code",
   "execution_count": 2,
   "metadata": {},
   "outputs": [],
   "source": [
    "expr = '3.2 + 6.5 * 5'\n",
    "tokens = tokenize(expr)\n",
    "\n",
    "assert tokens == [3.2, '+', 6.5, '*', 5.0]"
   ]
  },
  {
   "cell_type": "markdown",
   "metadata": {},
   "source": [
    "Una vez que tenemos los *tokens*, solo nos queda evaluar la expresión. El primer algoritmo que usaremos es muy sencillo: buscamos el operador de menor prioridad, y evaluamos recursivamente a ambos lados de la expresión."
   ]
  },
  {
   "cell_type": "code",
   "execution_count": 3,
   "metadata": {},
   "outputs": [],
   "source": [
    "# These numbers indicate the priority, the lower number the higher the priority.\n",
    "priority = {\n",
    "    '^': 0,\n",
    "    '*': 1,\n",
    "    '/': 1,\n",
    "    '+': 2,\n",
    "    '-': 2,\n",
    "}\n",
    "\n",
    "# These lambda expressions map from operators to actual executable code\n",
    "operations = {\n",
    "    '^': lambda x,y: x ** y,\n",
    "    '*': lambda x,y: x * y,\n",
    "    '/': lambda x,y: x / y,\n",
    "    '+': lambda x,y: x + y,\n",
    "    '-': lambda x,y: x - y,\n",
    "}"
   ]
  },
  {
   "cell_type": "code",
   "execution_count": 4,
   "metadata": {},
   "outputs": [],
   "source": [
    "def evaluate(tokens):\n",
    "    \"\"\"\n",
    "    Evaluates an expression recursively.\n",
    "    \"\"\"\n",
    "    if not tokens:\n",
    "        raise ValueError(\"Ill-formed expression\")\n",
    "    \n",
    "    if len(tokens) == 1:\n",
    "        # Must be a number\n",
    "        return tokens[0]\n",
    "    \n",
    "    last_oper = None\n",
    "    last_prior = -1\n",
    "    \n",
    "    # :solution:\n",
    "    for i, token in enumerate(tokens):\n",
    "        if token in priority:\n",
    "            prior = priority[token]\n",
    "            \n",
    "            if prior > last_prior:\n",
    "                last_oper = i\n",
    "                last_prior = prior\n",
    "                \n",
    "    if last_prior < 0:\n",
    "        raise ValueError(\"Ill-formed expression\")\n",
    "    # :final:\n",
    "    # Insert your code here ...\n",
    "    # Find the operator with the least priority\n",
    "    # :end:\n",
    "        \n",
    "    left_expr = evaluate(tokens[:last_oper])\n",
    "    right_expr = evaluate(tokens[last_oper+1:])\n",
    "    \n",
    "    operation = operations[tokens[last_oper]]\n",
    "\n",
    "    return operation(left_expr, right_expr)"
   ]
  },
  {
   "cell_type": "code",
   "execution_count": 5,
   "metadata": {},
   "outputs": [],
   "source": [
    "value = evaluate(tokens)\n",
    "assert value == 35.7"
   ]
  },
  {
   "cell_type": "markdown",
   "metadata": {},
   "source": [
    "## Adicionando paréntesis\n",
    "\n",
    "Ahora que ya tenemos las funcionalidades básicas, vamos a adicionar los paréntesis. Para ello, sólo nuestro método de evaluación tiene que cambiar, dado que al tokenizador no le deberían importar los paréntesis. En caso de no ser así, es hora de regresar y arreglarlo."
   ]
  },
  {
   "cell_type": "code",
   "execution_count": 6,
   "metadata": {},
   "outputs": [],
   "source": [
    "expr = \"( 3.2 + ( 6.5 - 2.3 ) ) * 5\"\n",
    "tokens = tokenize(expr)\n",
    "\n",
    "assert tokens == ['(', 3.2, '+', '(', 6.5, '-', 2.3, ')', ')', '*', 5.0]"
   ]
  },
  {
   "cell_type": "markdown",
   "metadata": {},
   "source": [
    "Para resolver la prioridad con respecto a los paréntesis, solamente necesitamos adicionar un concepto de *nivel de profundidad*. Cada vez aparece un paréntesis abierto aumentamos el nivel de profundidad, y lo decrementamos al cerrar un paréntesis. Los operadores en un nivel de profundidad mayor siempre tienen prioridad sobre aquellos en un nivel de profundidad menor. A la misma vez estaremos chequeando que la cadena tenga los paréntesis balanceados.\n",
    "\n",
    "**`(!)`** Cuidado con los paréntesis adicionales en los extremos: `( 2 + 3 )` ..."
   ]
  },
  {
   "cell_type": "code",
   "execution_count": 7,
   "metadata": {},
   "outputs": [],
   "source": [
    "def evaluate(tokens):\n",
    "    \"\"\"\n",
    "    Evaluates an expression recursively.\n",
    "    \"\"\"\n",
    "    if not tokens:\n",
    "        raise ValueError(\"Ill-formed expression\")\n",
    "    \n",
    "    if len(tokens) == 1:\n",
    "        # Must be a number\n",
    "        return tokens[0]\n",
    "    \n",
    "    last_oper = None\n",
    "    last_prior = -1\n",
    "    last_level = 1e50\n",
    "    current_level = 0\n",
    "    \n",
    "    # :solution:\n",
    "    for i, token in enumerate(tokens):\n",
    "        if token == '(':\n",
    "            current_level += 1\n",
    "            continue\n",
    "    \n",
    "        if token == ')':\n",
    "            current_level -= 1\n",
    "            \n",
    "            if current_level < 0:\n",
    "                raise ValueError(\"Ill-formed expression\")\n",
    "                \n",
    "            continue\n",
    "            \n",
    "        if token in priority:\n",
    "            prior = priority[token]\n",
    "\n",
    "            if current_level < last_level or (current_level == last_level and prior > last_prior):\n",
    "                last_oper = i\n",
    "                last_prior = prior\n",
    "                last_level = current_level\n",
    "                \n",
    "    if last_prior < 0:\n",
    "        raise ValueError(\"Ill-formed expression\")\n",
    "    \n",
    "    if last_level > 0:\n",
    "        tokens = tokens[last_level:-last_level]\n",
    "        last_oper -= last_level\n",
    "    # :final:\n",
    "    # Insert your code here ...\n",
    "    # Find the operator with the least priority\n",
    "    # :end:\n",
    "        \n",
    "    left_expr = evaluate(tokens[:last_oper])\n",
    "    right_expr = evaluate(tokens[last_oper+1:])\n",
    "    \n",
    "    operation = operations[tokens[last_oper]]\n",
    "\n",
    "    return operation(left_expr, right_expr)"
   ]
  },
  {
   "cell_type": "code",
   "execution_count": 8,
   "metadata": {},
   "outputs": [],
   "source": [
    "assert evaluate(tokens) == 37.0"
   ]
  },
  {
   "cell_type": "markdown",
   "metadata": {},
   "source": [
    "# Constantes\n",
    "\n",
    "Para adicionar las constantes, simplemente añadiremos un diccionario con todas las constantes disponibles, que usaremos durante la tokenización."
   ]
  },
  {
   "cell_type": "code",
   "execution_count": 9,
   "metadata": {},
   "outputs": [],
   "source": [
    "constants = {\n",
    "    'pi': 3.14159265359,\n",
    "    'e': 2.71828182846,\n",
    "    'phi': 1.61803398875,\n",
    "}"
   ]
  },
  {
   "cell_type": "code",
   "execution_count": 10,
   "metadata": {},
   "outputs": [],
   "source": [
    "def tokenize(expr):\n",
    "    \"\"\"\n",
    "    Returns the set of tokens. At this point, simply splits by \n",
    "    spaces and converts numbers to `float` instances.\n",
    "    Replaces constants.\n",
    "    \"\"\"\n",
    "    tokens = []\n",
    "    \n",
    "    for token in expr.split():\n",
    "        # :solution:\n",
    "        try:\n",
    "            tokens.append(float(token))\n",
    "        except:\n",
    "            tokens.append(constants.get(token, token))\n",
    "        # :final:\n",
    "        # Insert your code here ...\n",
    "        pass\n",
    "        # :end:\n",
    "    \n",
    "    return tokens"
   ]
  },
  {
   "cell_type": "code",
   "execution_count": 11,
   "metadata": {},
   "outputs": [],
   "source": [
    "expr = '2 * pi'\n",
    "tokens = tokenize(expr)\n",
    "\n",
    "assert tokens == [2.0, '*', 3.14159265359]"
   ]
  },
  {
   "cell_type": "markdown",
   "metadata": {},
   "source": [
    "# Funciones elementales\n",
    "\n",
    "Para las funciones elementales haremos algo similar a las constantes, pero en vez de a la hora de tokenizar, las reemplazaremos a la hora de evaluar, pues necesitamos evaluar recursivamente los argumentos de la función. Empezaremos por garantizar que nuestro tokenizador que es capaz de reconocer expresiones con funciones elementales de más de un argumento, en caso de no ser así es necesario arreglarlo."
   ]
  },
  {
   "cell_type": "code",
   "execution_count": 12,
   "metadata": {},
   "outputs": [],
   "source": [
    "expr = 'log ( 64 , 1 + 3 )'\n",
    "tokens = tokenize(expr)\n",
    "\n",
    "assert tokens == ['log', '(', 64.0, ',', 1.0, '+', 3.0, ')']"
   ]
  },
  {
   "cell_type": "markdown",
   "metadata": {},
   "source": [
    "Adicionaremos entonces un diccionario con todas las funciones elementales que permitiremos."
   ]
  },
  {
   "cell_type": "code",
   "execution_count": 13,
   "metadata": {},
   "outputs": [],
   "source": [
    "import math\n",
    "\n",
    "functions = {\n",
    "    'sin': lambda x: math.sin(x),\n",
    "    'cos': lambda x: math.cos(x),\n",
    "    'tan': lambda x: math.tan(x),\n",
    "    'log': lambda x,y: math.log(x, y),\n",
    "    'sqrt': lambda x: math.sqrt(x),\n",
    "}"
   ]
  },
  {
   "cell_type": "markdown",
   "metadata": {},
   "source": [
    "Por último, modificaremos el método `evaluate`. Esto lo vamos a hacer en varios pasos, primero crearemos un método auxiliar `evaluate_function`, que asumiremos siempre recibe una sub-expresión que consiste exactamente en un llamado a función. Este método se encargará de evaluar recursivamente los argumentos de la función y luego invocar a la función en sí. Los argumentos están separados por el token _coma_ (`,`). \n",
    "\n",
    "Recordemos que cada uno de los argumentos puede a su vez tener sub-expresiones que consistan también en llamados a funciones, por lo es necesario llevar la cuenta del *nivel de profundidad*."
   ]
  },
  {
   "cell_type": "code",
   "execution_count": 14,
   "metadata": {},
   "outputs": [],
   "source": [
    "def evaluate_function(expr):\n",
    "    \"\"\"\n",
    "    Receives a tokenized expression that consists exactly in a function\n",
    "    invocation and recursively evaluates the arguments and then the function itself.\n",
    "    \"\"\"\n",
    "    if len(expr) < 3:\n",
    "        raise ValueError('Ill-formed expression')\n",
    "\n",
    "    fun = expr[0]\n",
    "    \n",
    "    if not fun in functions:\n",
    "        raise ValueError('Invalid function: %s' % fun)\n",
    "        \n",
    "    if expr[1] != '(' or expr[-1] !=')':\n",
    "        raise ValueError('Ill-formed expression')\n",
    "        \n",
    "    expr = expr[1:-1]\n",
    "    \n",
    "    args = []\n",
    "    current_level = 0\n",
    "    current_arg = []\n",
    "    \n",
    "    # :solution:\n",
    "    for token in expr[1:]:\n",
    "        if token == '(':\n",
    "            current_level += 1\n",
    "            continue\n",
    "            \n",
    "        if token == ')':\n",
    "            current_level -= 1\n",
    "            \n",
    "            if current_level < 0:\n",
    "                raise ValueError('Ill-formed expression')\n",
    "                \n",
    "            continue\n",
    "            \n",
    "        if current_level == 0 and token == ',':\n",
    "            args.append(evaluate(current_arg))\n",
    "            current_arg = []\n",
    "            continue\n",
    "            \n",
    "        current_arg.append(token)\n",
    "        \n",
    "    if current_arg:\n",
    "        args.append(evaluate(current_arg))\n",
    "    # :final:\n",
    "    # Split and evaluate all arguments\n",
    "    # ...\n",
    "    # :end:\n",
    "        \n",
    "    return functions[fun](*args)"
   ]
  },
  {
   "cell_type": "code",
   "execution_count": 15,
   "metadata": {},
   "outputs": [],
   "source": [
    "assert evaluate_function(tokens) == 3.0"
   ]
  },
  {
   "cell_type": "markdown",
   "metadata": {},
   "source": [
    "Ahora que tenemos una forma de evaluar una función, tenemos que modificar nuestro método `evaluate` para usar esta funcionalidad. Dado que este método está tan orientado a expresiones en notación **infija**, y ya se está volviendo bastante largo, vamos a tener que hacer varias modificaciones. \n",
    "\n",
    "Comenzaremos por separar la funcionalidad que encuentra el operador de menor precedencia en un método aparte. Este método recibirá una expresión (en forma de lista de tokens) y nos devolverá el índice del token que representa el operador más externo. Este método asumirá que pueden existir paréntesis innecesarios a los lados de la expresión.\n",
    "\n",
    "**`(!)`** Recordemos que la invocación de una función tiene la máxima prioridad."
   ]
  },
  {
   "cell_type": "code",
   "execution_count": 16,
   "metadata": {},
   "outputs": [],
   "source": [
    "def find_top_operator(tokens):\n",
    "    if not tokens:\n",
    "        raise ValueError(\"Ill-formed expression\")\n",
    "    \n",
    "    last_oper = None\n",
    "    last_prior = -1\n",
    "    last_level = 1e50\n",
    "    current_level = 0\n",
    "    \n",
    "    # :solution:\n",
    "    for i, token in enumerate(tokens):\n",
    "        prior = None\n",
    "        \n",
    "        if token == '(':\n",
    "            current_level += 1\n",
    "            continue\n",
    "    \n",
    "        if token == ')':\n",
    "            current_level -= 1\n",
    "            \n",
    "            if current_level < 0:\n",
    "                raise ValueError(\"Ill-formed expression\")\n",
    "                \n",
    "            continue\n",
    "            \n",
    "        if token in functions:\n",
    "            prior = 100\n",
    "        elif token in priority:\n",
    "            prior = priority[token]\n",
    "            \n",
    "        if prior:\n",
    "            if current_level < last_level or (current_level == last_level and prior > last_prior):\n",
    "                last_oper = i\n",
    "                last_prior = prior\n",
    "                last_level = current_level\n",
    "                \n",
    "    if last_prior < 0:\n",
    "        raise ValueError(\"Ill-formed expression\")\n",
    "    # :final:\n",
    "    # Insert your code here ...\n",
    "    # :end:\n",
    "    \n",
    "    return last_oper"
   ]
  },
  {
   "cell_type": "code",
   "execution_count": 17,
   "metadata": {},
   "outputs": [],
   "source": [
    "expr = '( ( sin ( 2 * pi ) / tan ( 4 ) ) + cos ( pi - 1 ) )'\n",
    "tokens = tokenize(expr)\n",
    "\n",
    "assert find_top_operator(tokens) == 15"
   ]
  },
  {
   "cell_type": "code",
   "execution_count": null,
   "metadata": {},
   "outputs": [],
   "source": []
  }
 ],
 "metadata": {
  "kernelspec": {
   "display_name": "Python 3",
   "language": "python",
   "name": "python3"
  },
  "language_info": {
   "codemirror_mode": {
    "name": "ipython",
    "version": 3
   },
   "file_extension": ".py",
   "mimetype": "text/x-python",
   "name": "python",
   "nbconvert_exporter": "python",
   "pygments_lexer": "ipython3",
   "version": "3.6.4"
  }
 },
 "nbformat": 4,
 "nbformat_minor": 2
}
