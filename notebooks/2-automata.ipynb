{
 "cells": [
  {
   "cell_type": "code",
   "execution_count": 46,
   "metadata": {},
   "outputs": [],
   "source": [
    "class DFA:\n",
    "    def __init__(self, states, finals, transitions, start=0):\n",
    "        self.states = states\n",
    "        self.start = start\n",
    "        self.current = start\n",
    "        self.finals = set(finals)\n",
    "        self.transitions = { state: {} for state in range(states) }\n",
    "        \n",
    "        for (origin, symbol), destination in transitions.items():\n",
    "            self.transitions[origin][symbol] = destination\n",
    "        \n",
    "    def _move(self, symbol):\n",
    "        # :solution:\n",
    "        if symbol not in self.transitions[self.current]:\n",
    "            return False\n",
    "\n",
    "        self.current = self.transitions[self.current][symbol]\n",
    "        return True\n",
    "        # :final:\n",
    "        # Your code here\n",
    "        pass\n",
    "        # :end:\n",
    "    \n",
    "    def _reset(self):\n",
    "        self.current = self.start\n",
    "        \n",
    "    def recognize(self, string):\n",
    "        # :solution:\n",
    "        self._reset()\n",
    "        \n",
    "        for c in string:\n",
    "            if not self._move(c):\n",
    "                return False\n",
    "            \n",
    "        return self.current in self.finals\n",
    "        # :final:\n",
    "        # Your code here\n",
    "        pass\n",
    "        # :end:"
   ]
  },
  {
   "cell_type": "code",
   "execution_count": 47,
   "metadata": {},
   "outputs": [],
   "source": [
    "automaton = DFA(states=3, finals=[2], transitions={\n",
    "    (0,'a'): 1,\n",
    "    (1,'a'): 2,\n",
    "    (2,'a'): 2,\n",
    "    (0,'b'): 0,\n",
    "    (1,'b'): 0,\n",
    "    (2,'b'): 2\n",
    "})"
   ]
  },
  {
   "cell_type": "code",
   "execution_count": 48,
   "metadata": {},
   "outputs": [],
   "source": [
    "assert automaton.recognize('baab')\n",
    "assert not automaton.recognize('abba')"
   ]
  },
  {
   "cell_type": "code",
   "execution_count": null,
   "metadata": {},
   "outputs": [],
   "source": []
  }
 ],
 "metadata": {
  "kernelspec": {
   "display_name": "Python 3",
   "language": "python",
   "name": "python3"
  },
  "language_info": {
   "codemirror_mode": {
    "name": "ipython",
    "version": 3
   },
   "file_extension": ".py",
   "mimetype": "text/x-python",
   "name": "python",
   "nbconvert_exporter": "python",
   "pygments_lexer": "ipython3",
   "version": "3.6.4"
  }
 },
 "nbformat": 4,
 "nbformat_minor": 2
}
